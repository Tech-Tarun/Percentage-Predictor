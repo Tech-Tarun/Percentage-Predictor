{
 "cells": [
  {
   "cell_type": "markdown",
   "metadata": {
    "colab_type": "text",
    "id": "view-in-github"
   },
   "source": [
    "<a href=\"https://colab.research.google.com/gist/Ayush810/aec461d8a766bc5a8dfbfa0103bb29bf/student_marks_predictor.ipynb\" target=\"_parent\"><img src=\"https://colab.research.google.com/assets/colab-badge.svg\" alt=\"Open In Colab\"/></a>"
   ]
  },
  {
   "cell_type": "markdown",
   "metadata": {
    "id": "rF1wFhXLE_xp"
   },
   "source": [
    "# The Sparks Foundation\n",
    "## Task 1 (Tech-Intern)\n",
    "## Prediction using Supervised ML\n",
    "\n",
    "### Author- Tarun Tripathi"
   ]
  },
  {
   "cell_type": "code",
   "execution_count": null,
   "metadata": {
    "id": "HxK4Zfr5FFAW"
   },
   "outputs": [],
   "source": [
    "import numpy as np\n",
    "import pandas as pd\n",
    "from matplotlib import pyplot as plt\n"
   ]
  },
  {
   "cell_type": "code",
   "execution_count": 2,
   "metadata": {
    "colab": {
     "base_uri": "https://localhost:8080/",
     "height": 195
    },
    "id": "jtZGsN29FYMZ",
    "outputId": "0b8a7ab1-9bf8-4254-a5a4-a714888d773d"
   },
   "outputs": [
    {
     "name": "stdout",
     "output_type": "stream",
     "text": [
      "   Study_Time  Percentage\n",
      "0        7.75       79.50\n",
      "1        7.90       80.76\n",
      "2        8.19       83.08\n",
      "3        6.55       76.03\n",
      "4        6.36       76.04\n"
     ]
    }
   ],
   "source": [
    "# Dataset path\n",
    "url=\"https://drive.google.com/file/d/1U3955Gao5hGhhmC0UclIVBjUPw__5GxL/view?usp=sharing\"\n",
    "file_id=url.split('/')[-2]\n",
    "path='https://drive.google.com/uc?id=' + file_id\n",
    "data=pd.read_csv(path) \n",
    "print(data.head())"
   ]
  },
  {
   "cell_type": "markdown",
   "metadata": {
    "id": "8TQRbDd8KAZ-"
   },
   "source": [
    "# Discover and visulaize the data to gain insigths"
   ]
  },
  {
   "cell_type": "code",
   "execution_count": 3,
   "metadata": {
    "colab": {
     "base_uri": "https://localhost:8080/"
    },
    "id": "WwRo7Ad8KJwY",
    "outputId": "afd29e88-bf69-41af-8244-61712a357e36"
   },
   "outputs": [
    {
     "name": "stdout",
     "output_type": "stream",
     "text": [
      "<class 'pandas.core.frame.DataFrame'>\n",
      "RangeIndex: 188 entries, 0 to 187\n",
      "Data columns (total 2 columns):\n",
      " #   Column      Non-Null Count  Dtype  \n",
      "---  ------      --------------  -----  \n",
      " 0   Study_Time  184 non-null    float64\n",
      " 1   Percentage  188 non-null    float64\n",
      "dtypes: float64(2)\n",
      "memory usage: 3.1 KB\n"
     ]
    }
   ],
   "source": [
    "data.info()"
   ]
  },
  {
   "cell_type": "code",
   "execution_count": 4,
   "metadata": {
    "colab": {
     "base_uri": "https://localhost:8080/",
     "height": 284
    },
    "id": "1LUNE9q3KQA5",
    "outputId": "e4f36d9b-5252-4399-e695-e88106191b33"
   },
   "outputs": [
    {
     "data": {
      "text/html": [
       "<div>\n",
       "<style scoped>\n",
       "    .dataframe tbody tr th:only-of-type {\n",
       "        vertical-align: middle;\n",
       "    }\n",
       "\n",
       "    .dataframe tbody tr th {\n",
       "        vertical-align: top;\n",
       "    }\n",
       "\n",
       "    .dataframe thead th {\n",
       "        text-align: right;\n",
       "    }\n",
       "</style>\n",
       "<table border=\"1\" class=\"dataframe\">\n",
       "  <thead>\n",
       "    <tr style=\"text-align: right;\">\n",
       "      <th></th>\n",
       "      <th>Study_Time</th>\n",
       "      <th>Percentage</th>\n",
       "    </tr>\n",
       "  </thead>\n",
       "  <tbody>\n",
       "    <tr>\n",
       "      <th>count</th>\n",
       "      <td>184.000000</td>\n",
       "      <td>188.000000</td>\n",
       "    </tr>\n",
       "    <tr>\n",
       "      <th>mean</th>\n",
       "      <td>6.990109</td>\n",
       "      <td>77.901383</td>\n",
       "    </tr>\n",
       "    <tr>\n",
       "      <th>std</th>\n",
       "      <td>1.257771</td>\n",
       "      <td>4.952339</td>\n",
       "    </tr>\n",
       "    <tr>\n",
       "      <th>min</th>\n",
       "      <td>5.010000</td>\n",
       "      <td>68.570000</td>\n",
       "    </tr>\n",
       "    <tr>\n",
       "      <th>25%</th>\n",
       "      <td>5.757500</td>\n",
       "      <td>73.317500</td>\n",
       "    </tr>\n",
       "    <tr>\n",
       "      <th>50%</th>\n",
       "      <td>7.165000</td>\n",
       "      <td>77.640000</td>\n",
       "    </tr>\n",
       "    <tr>\n",
       "      <th>75%</th>\n",
       "      <td>8.082500</td>\n",
       "      <td>82.320000</td>\n",
       "    </tr>\n",
       "    <tr>\n",
       "      <th>max</th>\n",
       "      <td>8.970000</td>\n",
       "      <td>86.990000</td>\n",
       "    </tr>\n",
       "  </tbody>\n",
       "</table>\n",
       "</div>"
      ],
      "text/plain": [
       "       Study_Time  Percentage\n",
       "count  184.000000  188.000000\n",
       "mean     6.990109   77.901383\n",
       "std      1.257771    4.952339\n",
       "min      5.010000   68.570000\n",
       "25%      5.757500   73.317500\n",
       "50%      7.165000   77.640000\n",
       "75%      8.082500   82.320000\n",
       "max      8.970000   86.990000"
      ]
     },
     "execution_count": 4,
     "metadata": {},
     "output_type": "execute_result"
    }
   ],
   "source": [
    "data.describe()"
   ]
  },
  {
   "cell_type": "code",
   "execution_count": 5,
   "metadata": {
    "colab": {
     "base_uri": "https://localhost:8080/",
     "height": 295
    },
    "id": "TerQA9BWMPCB",
    "outputId": "0293b750-cb43-490c-ea30-260911a22c5c"
   },
   "outputs": [
    {
     "data": {
      "image/png": "[encoded data removed]",
      "text/plain": [
       "<Figure size 432x288 with 1 Axes>"
      ]
     },
     "metadata": {
      "needs_background": "light"
     },
     "output_type": "display_data"
    }
   ],
   "source": [
    "plt.scatter(x=data.Study_Time,y=data.Percentage)\n",
    "plt.xlabel(\"Study Time of Student-->\")\n",
    "plt.ylabel(\"Percentage of Student-->\")\n",
    "plt.title(\"Study Time Vs Percentage \")\n",
    "plt.show()"
   ]
  },
  {
   "cell_type": "markdown",
   "metadata": {
    "id": "9nkre5kWNcvW"
   },
   "source": [
    "# Prepare The Data For Machine Learning Algorithm "
   ]
  },
  {
   "cell_type": "code",
   "execution_count": 6,
   "metadata": {
    "colab": {
     "base_uri": "https://localhost:8080/"
    },
    "id": "QUShe-QPNoee",
    "outputId": "fd875efa-dfb6-479d-fe4c-c76bf17d9e00"
   },
   "outputs": [
    {
     "data": {
      "text/plain": [
       "Study_Time    4\n",
       "Percentage    0\n",
       "dtype: int64"
      ]
     },
     "execution_count": 6,
     "metadata": {},
     "output_type": "execute_result"
    }
   ],
   "source": [
    "# Data Cleaning \n",
    "data.isnull().sum()"
   ]
  },
  {
   "cell_type": "code",
   "execution_count": 7,
   "metadata": {
    "colab": {
     "base_uri": "https://localhost:8080/"
    },
    "id": "rMMScN98NvBz",
    "outputId": "ed691d2e-104f-434f-8730-c6e79c998b17"
   },
   "outputs": [
    {
     "data": {
      "text/plain": [
       "Study_Time     6.990109\n",
       "Percentage    77.901383\n",
       "dtype: float64"
      ]
     },
     "execution_count": 7,
     "metadata": {},
     "output_type": "execute_result"
    }
   ],
   "source": [
    "data.mean()"
   ]
  },
  {
   "cell_type": "code",
   "execution_count": 8,
   "metadata": {
    "id": "k87xNYvmN_o6"
   },
   "outputs": [],
   "source": [
    "data2=data.fillna(data.mean())"
   ]
  },
  {
   "cell_type": "code",
   "execution_count": 9,
   "metadata": {
    "colab": {
     "base_uri": "https://localhost:8080/"
    },
    "id": "HSO5Dl5ZOTvJ",
    "outputId": "62a23330-c83f-47df-d879-3bf84571f770"
   },
   "outputs": [
    {
     "data": {
      "text/plain": [
       "Study_Time    0\n",
       "Percentage    0\n",
       "dtype: int64"
      ]
     },
     "execution_count": 9,
     "metadata": {},
     "output_type": "execute_result"
    }
   ],
   "source": [
    " data2.isnull().sum()"
   ]
  },
  {
   "cell_type": "code",
   "execution_count": 10,
   "metadata": {
    "colab": {
     "base_uri": "https://localhost:8080/",
     "height": 195
    },
    "id": "Len4xTFAOY8Z",
    "outputId": "c23e4539-7175-414d-9b77-11134ba513d1"
   },
   "outputs": [
    {
     "data": {
      "text/html": [
       "<div>\n",
       "<style scoped>\n",
       "    .dataframe tbody tr th:only-of-type {\n",
       "        vertical-align: middle;\n",
       "    }\n",
       "\n",
       "    .dataframe tbody tr th {\n",
       "        vertical-align: top;\n",
       "    }\n",
       "\n",
       "    .dataframe thead th {\n",
       "        text-align: right;\n",
       "    }\n",
       "</style>\n",
       "<table border=\"1\" class=\"dataframe\">\n",
       "  <thead>\n",
       "    <tr style=\"text-align: right;\">\n",
       "      <th></th>\n",
       "      <th>Study_Time</th>\n",
       "      <th>Percentage</th>\n",
       "    </tr>\n",
       "  </thead>\n",
       "  <tbody>\n",
       "    <tr>\n",
       "      <th>0</th>\n",
       "      <td>7.75</td>\n",
       "      <td>79.50</td>\n",
       "    </tr>\n",
       "    <tr>\n",
       "      <th>1</th>\n",
       "      <td>7.90</td>\n",
       "      <td>80.76</td>\n",
       "    </tr>\n",
       "    <tr>\n",
       "      <th>2</th>\n",
       "      <td>8.19</td>\n",
       "      <td>83.08</td>\n",
       "    </tr>\n",
       "    <tr>\n",
       "      <th>3</th>\n",
       "      <td>6.55</td>\n",
       "      <td>76.03</td>\n",
       "    </tr>\n",
       "    <tr>\n",
       "      <th>4</th>\n",
       "      <td>6.36</td>\n",
       "      <td>76.04</td>\n",
       "    </tr>\n",
       "  </tbody>\n",
       "</table>\n",
       "</div>"
      ],
      "text/plain": [
       "   Study_Time  Percentage\n",
       "0        7.75       79.50\n",
       "1        7.90       80.76\n",
       "2        8.19       83.08\n",
       "3        6.55       76.03\n",
       "4        6.36       76.04"
      ]
     },
     "execution_count": 10,
     "metadata": {},
     "output_type": "execute_result"
    }
   ],
   "source": [
    "data2.head()"
   ]
  },
  {
   "cell_type": "code",
   "execution_count": 11,
   "metadata": {
    "colab": {
     "base_uri": "https://localhost:8080/"
    },
    "id": "Dal6iNBROv8G",
    "outputId": "7a2d5102-c3c0-4871-c594-1c3097967049"
   },
   "outputs": [
    {
     "name": "stdout",
     "output_type": "stream",
     "text": [
      "shape of x (188, 1)\n",
      "shape of y (188, 1)\n"
     ]
    }
   ],
   "source": [
    "# split dataset for training\n",
    "x=data2.drop(\"Percentage\", axis=\"columns\")\n",
    "y=data2.drop(\"Study_Time\",axis=\"columns\")\n",
    "print(\"shape of x\",x.shape)\n",
    "print(\"shape of y\", y.shape)\n",
    "\n"
   ]
  },
  {
   "cell_type": "code",
   "execution_count": 12,
   "metadata": {
    "id": "GDMRoXN7QA8O"
   },
   "outputs": [],
   "source": [
    "from sklearn.model_selection import train_test_split\n",
    "X_train,X_test,Y_train,Y_test=train_test_split(x,y,test_size=0.2, random_state=51) # tes_size is defining how much data we want for testing so 0.2 means i am using 20 percent data for testing "
   ]
  },
  {
   "cell_type": "code",
   "execution_count": 13,
   "metadata": {
    "colab": {
     "base_uri": "https://localhost:8080/"
    },
    "id": "qHmIhT7HRaAw",
    "outputId": "636bb9f7-337a-4bd1-f6a6-c48c87a1824b"
   },
   "outputs": [
    {
     "name": "stdout",
     "output_type": "stream",
     "text": [
      "shape of X Train (150, 1)\n",
      "shape of Y Train (150, 1)\n",
      "shape of X Test (38, 1)\n",
      "shape of Y Test (38, 1)\n"
     ]
    }
   ],
   "source": [
    "print(\"shape of X Train\",X_train.shape)\n",
    "print(\"shape of Y Train\",Y_train.shape)\n",
    "print(\"shape of X Test\", X_test.shape)\n",
    "print(\"shape of Y Test\",Y_test.shape)\n"
   ]
  },
  {
   "cell_type": "markdown",
   "metadata": {
    "id": "GakQMxFITHHh"
   },
   "source": [
    "# Select a model and train it"
   ]
  },
  {
   "cell_type": "code",
   "execution_count": 14,
   "metadata": {
    "id": "XlzVveHbTPSr"
   },
   "outputs": [],
   "source": [
    "# So in above scatter plot as we saw that when the value of x is increasing the value of y is also increasing in a linear format so we can use linear regression model\n",
    "from sklearn.linear_model import LinearRegression\n",
    "lr=LinearRegression()\n"
   ]
  },
  {
   "cell_type": "code",
   "execution_count": 15,
   "metadata": {
    "colab": {
     "base_uri": "https://localhost:8080/"
    },
    "id": "l6LvS1ljUNET",
    "outputId": "b8ae6710-ad61-4eb1-eadd-245f196a1fe8"
   },
   "outputs": [
    {
     "data": {
      "text/plain": [
       "LinearRegression()"
      ]
     },
     "execution_count": 15,
     "metadata": {},
     "output_type": "execute_result"
    }
   ],
   "source": [
    "lr.fit(X_train,Y_train)"
   ]
  },
  {
   "cell_type": "code",
   "execution_count": 16,
   "metadata": {
    "colab": {
     "base_uri": "https://localhost:8080/"
    },
    "id": "7KsX98RZWhYw",
    "outputId": "0342244c-a122-4067-cadb-33a4f4e3e12c"
   },
   "outputs": [
    {
     "data": {
      "text/plain": [
       "array([[3.87848311]])"
      ]
     },
     "execution_count": 16,
     "metadata": {},
     "output_type": "execute_result"
    }
   ],
   "source": [
    "lr.coef_"
   ]
  },
  {
   "cell_type": "code",
   "execution_count": 17,
   "metadata": {
    "colab": {
     "base_uri": "https://localhost:8080/"
    },
    "id": "R0ZA3BfTWmia",
    "outputId": "a196da74-ce32-4bad-dec9-88798d978702"
   },
   "outputs": [
    {
     "data": {
      "text/plain": [
       "array([50.82449139])"
      ]
     },
     "execution_count": 17,
     "metadata": {},
     "output_type": "execute_result"
    }
   ],
   "source": [
    "lr.intercept_"
   ]
  },
  {
   "cell_type": "code",
   "execution_count": 18,
   "metadata": {
    "colab": {
     "base_uri": "https://localhost:8080/"
    },
    "id": "a0g3Ms6XWp0j",
    "outputId": "82d2e770-c20a-4984-d344-d915d2b89ed8"
   },
   "outputs": [
    {
     "data": {
      "text/plain": [
       "97.6"
      ]
     },
     "execution_count": 18,
     "metadata": {},
     "output_type": "execute_result"
    }
   ],
   "source": [
    " m= 3.93\n",
    " c= 50.44\n",
    " y= m*12+c\n",
    " y"
   ]
  },
  {
   "cell_type": "code",
   "execution_count": 19,
   "metadata": {
    "colab": {
     "base_uri": "https://localhost:8080/"
    },
    "id": "ekQsBol1Xu7S",
    "outputId": "a7ce0346-6c61-49e3-aed5-08bea7495514"
   },
   "outputs": [
    {
     "data": {
      "text/plain": [
       "66.34"
      ]
     },
     "execution_count": 19,
     "metadata": {},
     "output_type": "execute_result"
    }
   ],
   "source": [
    "lr.predict([[4]])[0][0].round(2)"
   ]
  },
  {
   "cell_type": "code",
   "execution_count": 20,
   "metadata": {
    "colab": {
     "base_uri": "https://localhost:8080/"
    },
    "id": "-_UoMgsOYaH7",
    "outputId": "6e16f89d-0791-4ec6-9b5d-9e874a6a6df9"
   },
   "outputs": [
    {
     "data": {
      "text/plain": [
       "array([[80.57245683],\n",
       "       [78.36172146],\n",
       "       [70.41083109],\n",
       "       [80.68881133],\n",
       "       [84.87757309],\n",
       "       [72.31128781],\n",
       "       [70.25569176],\n",
       "       [83.01590119],\n",
       "       [75.49164396],\n",
       "       [85.49813038],\n",
       "       [71.72951535],\n",
       "       [82.16263491],\n",
       "       [81.65843211],\n",
       "       [76.07341643],\n",
       "       [71.65194568],\n",
       "       [77.6635945 ],\n",
       "       [84.80000342],\n",
       "       [83.48131917],\n",
       "       [75.87949227],\n",
       "       [79.99068437],\n",
       "       [70.99260356],\n",
       "       [81.69721694],\n",
       "       [76.65518889],\n",
       "       [74.25052937],\n",
       "       [85.45934555],\n",
       "       [79.60283606],\n",
       "       [77.85751866],\n",
       "       [76.11220126],\n",
       "       [71.69073052],\n",
       "       [82.86076187],\n",
       "       [75.45285913],\n",
       "       [77.50845518],\n",
       "       [85.22663657],\n",
       "       [75.02622599],\n",
       "       [79.17620292],\n",
       "       [77.31453102],\n",
       "       [77.93550989],\n",
       "       [82.20141974]])"
      ]
     },
     "execution_count": 20,
     "metadata": {},
     "output_type": "execute_result"
    }
   ],
   "source": [
    "y_pred=lr.predict(X_test)\n",
    "y_pred"
   ]
  },
  {
   "cell_type": "code",
   "execution_count": 21,
   "metadata": {
    "colab": {
     "base_uri": "https://localhost:8080/",
     "height": 1000
    },
    "id": "B0niOE-BYznU",
    "outputId": "ef7ef943-b619-473b-cd1f-b0537e882e7a"
   },
   "outputs": [
    {
     "data": {
      "text/html": [
       "<div>\n",
       "<style scoped>\n",
       "    .dataframe tbody tr th:only-of-type {\n",
       "        vertical-align: middle;\n",
       "    }\n",
       "\n",
       "    .dataframe tbody tr th {\n",
       "        vertical-align: top;\n",
       "    }\n",
       "\n",
       "    .dataframe thead th {\n",
       "        text-align: right;\n",
       "    }\n",
       "</style>\n",
       "<table border=\"1\" class=\"dataframe\">\n",
       "  <thead>\n",
       "    <tr style=\"text-align: right;\">\n",
       "      <th></th>\n",
       "      <th>Study_Time</th>\n",
       "      <th>Original_Percentage</th>\n",
       "      <th>Predicted_Percentage</th>\n",
       "    </tr>\n",
       "  </thead>\n",
       "  <tbody>\n",
       "    <tr>\n",
       "      <th>0</th>\n",
       "      <td>7.670000</td>\n",
       "      <td>80.58</td>\n",
       "      <td>80.572457</td>\n",
       "    </tr>\n",
       "    <tr>\n",
       "      <th>1</th>\n",
       "      <td>7.100000</td>\n",
       "      <td>76.76</td>\n",
       "      <td>78.361721</td>\n",
       "    </tr>\n",
       "    <tr>\n",
       "      <th>2</th>\n",
       "      <td>5.050000</td>\n",
       "      <td>70.67</td>\n",
       "      <td>70.410831</td>\n",
       "    </tr>\n",
       "    <tr>\n",
       "      <th>3</th>\n",
       "      <td>7.700000</td>\n",
       "      <td>80.81</td>\n",
       "      <td>80.688811</td>\n",
       "    </tr>\n",
       "    <tr>\n",
       "      <th>4</th>\n",
       "      <td>8.780000</td>\n",
       "      <td>84.35</td>\n",
       "      <td>84.877573</td>\n",
       "    </tr>\n",
       "    <tr>\n",
       "      <th>5</th>\n",
       "      <td>5.540000</td>\n",
       "      <td>72.38</td>\n",
       "      <td>72.311288</td>\n",
       "    </tr>\n",
       "    <tr>\n",
       "      <th>6</th>\n",
       "      <td>5.010000</td>\n",
       "      <td>70.11</td>\n",
       "      <td>70.255692</td>\n",
       "    </tr>\n",
       "    <tr>\n",
       "      <th>7</th>\n",
       "      <td>8.300000</td>\n",
       "      <td>82.84</td>\n",
       "      <td>83.015901</td>\n",
       "    </tr>\n",
       "    <tr>\n",
       "      <th>8</th>\n",
       "      <td>6.360000</td>\n",
       "      <td>76.04</td>\n",
       "      <td>75.491644</td>\n",
       "    </tr>\n",
       "    <tr>\n",
       "      <th>9</th>\n",
       "      <td>8.940000</td>\n",
       "      <td>86.75</td>\n",
       "      <td>85.498130</td>\n",
       "    </tr>\n",
       "    <tr>\n",
       "      <th>10</th>\n",
       "      <td>5.390000</td>\n",
       "      <td>73.02</td>\n",
       "      <td>71.729515</td>\n",
       "    </tr>\n",
       "    <tr>\n",
       "      <th>11</th>\n",
       "      <td>8.080000</td>\n",
       "      <td>81.70</td>\n",
       "      <td>82.162635</td>\n",
       "    </tr>\n",
       "    <tr>\n",
       "      <th>12</th>\n",
       "      <td>7.950000</td>\n",
       "      <td>80.86</td>\n",
       "      <td>81.658432</td>\n",
       "    </tr>\n",
       "    <tr>\n",
       "      <th>13</th>\n",
       "      <td>6.510000</td>\n",
       "      <td>74.75</td>\n",
       "      <td>76.073416</td>\n",
       "    </tr>\n",
       "    <tr>\n",
       "      <th>14</th>\n",
       "      <td>5.370000</td>\n",
       "      <td>71.80</td>\n",
       "      <td>71.651946</td>\n",
       "    </tr>\n",
       "    <tr>\n",
       "      <th>15</th>\n",
       "      <td>6.920000</td>\n",
       "      <td>76.38</td>\n",
       "      <td>77.663595</td>\n",
       "    </tr>\n",
       "    <tr>\n",
       "      <th>16</th>\n",
       "      <td>8.760000</td>\n",
       "      <td>82.21</td>\n",
       "      <td>84.800003</td>\n",
       "    </tr>\n",
       "    <tr>\n",
       "      <th>17</th>\n",
       "      <td>8.420000</td>\n",
       "      <td>84.24</td>\n",
       "      <td>83.481319</td>\n",
       "    </tr>\n",
       "    <tr>\n",
       "      <th>18</th>\n",
       "      <td>6.460000</td>\n",
       "      <td>76.02</td>\n",
       "      <td>75.879492</td>\n",
       "    </tr>\n",
       "    <tr>\n",
       "      <th>19</th>\n",
       "      <td>7.520000</td>\n",
       "      <td>79.56</td>\n",
       "      <td>79.990684</td>\n",
       "    </tr>\n",
       "    <tr>\n",
       "      <th>20</th>\n",
       "      <td>5.200000</td>\n",
       "      <td>68.57</td>\n",
       "      <td>70.992604</td>\n",
       "    </tr>\n",
       "    <tr>\n",
       "      <th>21</th>\n",
       "      <td>7.960000</td>\n",
       "      <td>83.33</td>\n",
       "      <td>81.697217</td>\n",
       "    </tr>\n",
       "    <tr>\n",
       "      <th>22</th>\n",
       "      <td>6.660000</td>\n",
       "      <td>76.63</td>\n",
       "      <td>76.655189</td>\n",
       "    </tr>\n",
       "    <tr>\n",
       "      <th>23</th>\n",
       "      <td>6.040000</td>\n",
       "      <td>72.33</td>\n",
       "      <td>74.250529</td>\n",
       "    </tr>\n",
       "    <tr>\n",
       "      <th>24</th>\n",
       "      <td>8.930000</td>\n",
       "      <td>86.65</td>\n",
       "      <td>85.459346</td>\n",
       "    </tr>\n",
       "    <tr>\n",
       "      <th>25</th>\n",
       "      <td>7.420000</td>\n",
       "      <td>82.18</td>\n",
       "      <td>79.602836</td>\n",
       "    </tr>\n",
       "    <tr>\n",
       "      <th>26</th>\n",
       "      <td>6.970000</td>\n",
       "      <td>77.19</td>\n",
       "      <td>77.857519</td>\n",
       "    </tr>\n",
       "    <tr>\n",
       "      <th>27</th>\n",
       "      <td>6.520000</td>\n",
       "      <td>76.20</td>\n",
       "      <td>76.112201</td>\n",
       "    </tr>\n",
       "    <tr>\n",
       "      <th>28</th>\n",
       "      <td>5.380000</td>\n",
       "      <td>71.94</td>\n",
       "      <td>71.690731</td>\n",
       "    </tr>\n",
       "    <tr>\n",
       "      <th>29</th>\n",
       "      <td>8.260000</td>\n",
       "      <td>82.99</td>\n",
       "      <td>82.860762</td>\n",
       "    </tr>\n",
       "    <tr>\n",
       "      <th>30</th>\n",
       "      <td>6.350000</td>\n",
       "      <td>76.19</td>\n",
       "      <td>75.452859</td>\n",
       "    </tr>\n",
       "    <tr>\n",
       "      <th>31</th>\n",
       "      <td>6.880000</td>\n",
       "      <td>77.29</td>\n",
       "      <td>77.508455</td>\n",
       "    </tr>\n",
       "    <tr>\n",
       "      <th>32</th>\n",
       "      <td>8.870000</td>\n",
       "      <td>85.10</td>\n",
       "      <td>85.226637</td>\n",
       "    </tr>\n",
       "    <tr>\n",
       "      <th>33</th>\n",
       "      <td>6.240000</td>\n",
       "      <td>75.18</td>\n",
       "      <td>75.026226</td>\n",
       "    </tr>\n",
       "    <tr>\n",
       "      <th>34</th>\n",
       "      <td>7.310000</td>\n",
       "      <td>79.26</td>\n",
       "      <td>79.176203</td>\n",
       "    </tr>\n",
       "    <tr>\n",
       "      <th>35</th>\n",
       "      <td>6.830000</td>\n",
       "      <td>75.80</td>\n",
       "      <td>77.314531</td>\n",
       "    </tr>\n",
       "    <tr>\n",
       "      <th>36</th>\n",
       "      <td>6.990109</td>\n",
       "      <td>76.14</td>\n",
       "      <td>77.935510</td>\n",
       "    </tr>\n",
       "    <tr>\n",
       "      <th>37</th>\n",
       "      <td>8.090000</td>\n",
       "      <td>82.38</td>\n",
       "      <td>82.201420</td>\n",
       "    </tr>\n",
       "  </tbody>\n",
       "</table>\n",
       "</div>"
      ],
      "text/plain": [
       "    Study_Time  Original_Percentage  Predicted_Percentage\n",
       "0     7.670000                80.58             80.572457\n",
       "1     7.100000                76.76             78.361721\n",
       "2     5.050000                70.67             70.410831\n",
       "3     7.700000                80.81             80.688811\n",
       "4     8.780000                84.35             84.877573\n",
       "5     5.540000                72.38             72.311288\n",
       "6     5.010000                70.11             70.255692\n",
       "7     8.300000                82.84             83.015901\n",
       "8     6.360000                76.04             75.491644\n",
       "9     8.940000                86.75             85.498130\n",
       "10    5.390000                73.02             71.729515\n",
       "11    8.080000                81.70             82.162635\n",
       "12    7.950000                80.86             81.658432\n",
       "13    6.510000                74.75             76.073416\n",
       "14    5.370000                71.80             71.651946\n",
       "15    6.920000                76.38             77.663595\n",
       "16    8.760000                82.21             84.800003\n",
       "17    8.420000                84.24             83.481319\n",
       "18    6.460000                76.02             75.879492\n",
       "19    7.520000                79.56             79.990684\n",
       "20    5.200000                68.57             70.992604\n",
       "21    7.960000                83.33             81.697217\n",
       "22    6.660000                76.63             76.655189\n",
       "23    6.040000                72.33             74.250529\n",
       "24    8.930000                86.65             85.459346\n",
       "25    7.420000                82.18             79.602836\n",
       "26    6.970000                77.19             77.857519\n",
       "27    6.520000                76.20             76.112201\n",
       "28    5.380000                71.94             71.690731\n",
       "29    8.260000                82.99             82.860762\n",
       "30    6.350000                76.19             75.452859\n",
       "31    6.880000                77.29             77.508455\n",
       "32    8.870000                85.10             85.226637\n",
       "33    6.240000                75.18             75.026226\n",
       "34    7.310000                79.26             79.176203\n",
       "35    6.830000                75.80             77.314531\n",
       "36    6.990109                76.14             77.935510\n",
       "37    8.090000                82.38             82.201420"
      ]
     },
     "execution_count": 21,
     "metadata": {},
     "output_type": "execute_result"
    }
   ],
   "source": [
    "pd.DataFrame(np.c_[X_test,Y_test,y_pred], columns=[\"Study_Time\",\"Original_Percentage\",\"Predicted_Percentage\"])"
   ]
  },
  {
   "cell_type": "markdown",
   "metadata": {
    "id": "4_WPvj1zah1t"
   },
   "source": [
    "# Fine Tuning The modle"
   ]
  },
  {
   "cell_type": "code",
   "execution_count": 22,
   "metadata": {
    "colab": {
     "base_uri": "https://localhost:8080/"
    },
    "id": "vtK-w0rZasVz",
    "outputId": "bb82d30a-eca1-44b2-ea3d-c38b4194f178"
   },
   "outputs": [
    {
     "data": {
      "text/plain": [
       "0.9479083610905108"
      ]
     },
     "execution_count": 22,
     "metadata": {},
     "output_type": "execute_result"
    }
   ],
   "source": [
    "lr.score(X_test,Y_test) # so our model is giving the accuracy of 95.14% "
   ]
  },
  {
   "cell_type": "code",
   "execution_count": 23,
   "metadata": {
    "colab": {
     "base_uri": "https://localhost:8080/",
     "height": 282
    },
    "id": "N5c_UnHXbRS2",
    "outputId": "81f9e345-580f-429d-b8fd-b9fb2e0a6ccb"
   },
   "outputs": [
    {
     "data": {
      "text/plain": [
       "<matplotlib.collections.PathCollection at 0x1de442c24c0>"
      ]
     },
     "execution_count": 23,
     "metadata": {},
     "output_type": "execute_result"
    },
    {
     "data": {
      "image/png": "[encoded data removed]",
      "text/plain": [
       "<Figure size 432x288 with 1 Axes>"
      ]
     },
     "metadata": {
      "needs_background": "light"
     },
     "output_type": "display_data"
    }
   ],
   "source": [
    "plt.scatter(X_test,Y_test)"
   ]
  },
  {
   "cell_type": "code",
   "execution_count": 24,
   "metadata": {
    "colab": {
     "base_uri": "https://localhost:8080/",
     "height": 282
    },
    "id": "rSwW-dkockOe",
    "outputId": "baffe4b9-5229-4308-f1f9-afd1004d0894"
   },
   "outputs": [
    {
     "data": {
      "text/plain": [
       "[<matplotlib.lines.Line2D at 0x1de4433d790>]"
      ]
     },
     "execution_count": 24,
     "metadata": {},
     "output_type": "execute_result"
    },
    {
     "data": {
      "image/png": "[encoded data removed]",
      "text/plain": [
       "<Figure size 432x288 with 1 Axes>"
      ]
     },
     "metadata": {
      "needs_background": "light"
     },
     "output_type": "display_data"
    }
   ],
   "source": [
    "plt.scatter(X_test,Y_test)\n",
    "plt.plot(X_train,lr.predict(X_train),color=\"red\")"
   ]
  },
  {
   "cell_type": "markdown",
   "metadata": {
    "id": "mBLUeoZbdUy-"
   },
   "source": [
    "# Present Your Solution"
   ]
  },
  {
   "cell_type": "code",
   "execution_count": 25,
   "metadata": {
    "colab": {
     "base_uri": "https://localhost:8080/"
    },
    "id": "lCcUoj4tddXP",
    "outputId": "2364ecdd-cf61-4586-d37d-57584fadbd38"
   },
   "outputs": [
    {
     "data": {
      "text/plain": [
       "['Student_Marks_Predictor.pkl']"
      ]
     },
     "execution_count": 25,
     "metadata": {},
     "output_type": "execute_result"
    }
   ],
   "source": [
    "import joblib\n",
    "joblib.dump(lr,\"Student_Marks_Predictor.pkl\")"
   ]
  },
  {
   "cell_type": "code",
   "execution_count": 26,
   "metadata": {
    "id": "TXwDiOZOeXFG"
   },
   "outputs": [],
   "source": [
    "model=joblib.load(\"Student_Marks_Predictor.pkl\")"
   ]
  },
  {
   "cell_type": "code",
   "execution_count": 27,
   "metadata": {
    "colab": {
     "base_uri": "https://localhost:8080/"
    },
    "id": "Fhdyc2uHehDK",
    "outputId": "a273b89e-3e2f-49e0-cf7c-1115ae2cf77c"
   },
   "outputs": [
    {
     "data": {
      "text/plain": [
       "array([[70.21690693]])"
      ]
     },
     "execution_count": 27,
     "metadata": {},
     "output_type": "execute_result"
    }
   ],
   "source": [
    "model.predict([[5]])"
   ]
  },
  {
   "cell_type": "code",
   "execution_count": null,
   "metadata": {},
   "outputs": [],
   "source": []
  }
 ],
 "metadata": {
  "colab": {
   "authorship_tag": "ABX9TyOtwg9q6l5ck0IslVlzZaZY",
   "include_colab_link": true,
   "name": "Student_Marks_predictor.ipynb",
   "provenance": []
  },
  "kernelspec": {
   "display_name": "Python 3",
   "language": "python",
   "name": "python3"
  },
  "language_info": {
   "codemirror_mode": {
    "name": "ipython",
    "version": 3
   },
   "file_extension": ".py",
   "mimetype": "text/x-python",
   "name": "python",
   "nbconvert_exporter": "python",
   "pygments_lexer": "ipython3",
   "version": "3.9.4"
  }
 },
 "nbformat": 4,
 "nbformat_minor": 1
}
